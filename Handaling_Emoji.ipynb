{
 "cells": [
  {
   "cell_type": "code",
   "execution_count": 1,
   "id": "9a96faa2-ac03-462c-82dc-de817df99479",
   "metadata": {},
   "outputs": [
    {
     "name": "stdout",
     "output_type": "stream",
     "text": [
      "Collecting emoji\n",
      "  Downloading emoji-2.14.0-py3-none-any.whl.metadata (5.7 kB)\n",
      "Downloading emoji-2.14.0-py3-none-any.whl (586 kB)\n",
      "   ---------------------------------------- 0.0/586.9 kB ? eta -:--:--\n",
      "   ---------------------------------------- 0.0/586.9 kB ? eta -:--:--\n",
      "    --------------------------------------- 10.2/586.9 kB ? eta -:--:--\n",
      "   -- ------------------------------------ 30.7/586.9 kB 217.9 kB/s eta 0:00:03\n",
      "   ---- ---------------------------------- 61.4/586.9 kB 365.7 kB/s eta 0:00:02\n",
      "   ------ -------------------------------- 92.2/586.9 kB 476.3 kB/s eta 0:00:02\n",
      "   --------- ---------------------------- 153.6/586.9 kB 612.6 kB/s eta 0:00:01\n",
      "   ----------------- -------------------- 266.2/586.9 kB 911.0 kB/s eta 0:00:01\n",
      "   ---------------------------------- ----- 501.8/586.9 kB 1.5 MB/s eta 0:00:01\n",
      "   ---------------------------------------  583.7/586.9 kB 1.6 MB/s eta 0:00:01\n",
      "   ---------------------------------------- 586.9/586.9 kB 1.5 MB/s eta 0:00:00\n",
      "Installing collected packages: emoji\n",
      "Successfully installed emoji-2.14.0\n",
      "Note: you may need to restart the kernel to use updated packages.\n"
     ]
    }
   ],
   "source": [
    "pip install emoji\n"
   ]
  },
  {
   "cell_type": "code",
   "execution_count": null,
   "id": "a0a7dd07-df4c-4d12-a4f2-d93363cb9fac",
   "metadata": {},
   "outputs": [],
   "source": []
  },
  {
   "cell_type": "code",
   "execution_count": null,
   "id": "e7b1220f-9b0a-4c62-bf81-36e782ae76f0",
   "metadata": {},
   "outputs": [],
   "source": []
  }
 ],
 "metadata": {
  "kernelspec": {
   "display_name": "Python 3 (ipykernel)",
   "language": "python",
   "name": "python3"
  },
  "language_info": {
   "codemirror_mode": {
    "name": "ipython",
    "version": 3
   },
   "file_extension": ".py",
   "mimetype": "text/x-python",
   "name": "python",
   "nbconvert_exporter": "python",
   "pygments_lexer": "ipython3",
   "version": "3.12.4"
  }
 },
 "nbformat": 4,
 "nbformat_minor": 5
}
