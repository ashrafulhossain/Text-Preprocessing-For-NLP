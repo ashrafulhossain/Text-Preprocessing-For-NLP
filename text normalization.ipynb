{
 "cells": [
  {
   "cell_type": "code",
   "execution_count": 1,
   "id": "001053e1-adff-4a06-861a-5eb0ef0c51f6",
   "metadata": {},
   "outputs": [
    {
     "name": "stdout",
     "output_type": "stream",
     "text": [
      "Normalized Text: i love this! do you love it to?\n",
      "Tokenized Text: ['i', 'love', 'this', '!', 'do', 'you', 'love', 'it', 'to', '?']\n"
     ]
    }
   ],
   "source": [
    "import re\n",
    "from nltk.tokenize import word_tokenize\n",
    "\n",
    "# Sample text\n",
    "text = \"I loveeeeee this! Do you luv it too?\"\n",
    "\n",
    "# Define normalization rules\n",
    "def normalize(text):\n",
    "    # Convert to lowercase\n",
    "    text = text.lower()\n",
    "    # Replace repeated characters (e.g., loveeeeee -> love)\n",
    "    text = re.sub(r'(.)\\1+', r'\\1', text)\n",
    "    # Replace slang (e.g., luv -> love)\n",
    "    text = re.sub(r'\\bluv\\b', 'love', text)\n",
    "    return text\n",
    "\n",
    "# Normalize the text\n",
    "normalized_text = normalize(text)\n",
    "\n",
    "# Tokenize the normalized text\n",
    "tokens = word_tokenize(normalized_text)\n",
    "\n",
    "# Print the normalized and tokenized text\n",
    "print(\"Normalized Text:\", normalized_text)\n",
    "print(\"Tokenized Text:\", tokens)"
   ]
  },
  {
   "cell_type": "code",
   "execution_count": null,
   "id": "73f621c5-bc0c-454c-9ecd-c0af75f6eb3e",
   "metadata": {},
   "outputs": [],
   "source": []
  }
 ],
 "metadata": {
  "kernelspec": {
   "display_name": "Python 3 (ipykernel)",
   "language": "python",
   "name": "python3"
  },
  "language_info": {
   "codemirror_mode": {
    "name": "ipython",
    "version": 3
   },
   "file_extension": ".py",
   "mimetype": "text/x-python",
   "name": "python",
   "nbconvert_exporter": "python",
   "pygments_lexer": "ipython3",
   "version": "3.12.4"
  }
 },
 "nbformat": 4,
 "nbformat_minor": 5
}
