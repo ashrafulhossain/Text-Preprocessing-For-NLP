{
 "cells": [
  {
   "cell_type": "code",
   "execution_count": 1,
   "id": "6b74e763-1427-48a0-934c-b95bf16766a0",
   "metadata": {},
   "outputs": [
    {
     "name": "stdout",
     "output_type": "stream",
     "text": [
      "Cleaned Text: Hello Check out my website  Its awesome excited user 100\n",
      "Tokenized Text: ['Hello', 'Check', 'out', 'my', 'website', 'Its', 'awesome', 'excited', 'user', '100']\n"
     ]
    },
    {
     "name": "stderr",
     "output_type": "stream",
     "text": [
      "[nltk_data] Downloading package punkt to\n",
      "[nltk_data]     C:\\Users\\Ashraful\\AppData\\Roaming\\nltk_data...\n",
      "[nltk_data]   Package punkt is already up-to-date!\n"
     ]
    }
   ],
   "source": [
    "import re\n",
    "import nltk\n",
    "from nltk.tokenize import word_tokenize\n",
    "\n",
    "# Make sure to download the necessary resources\n",
    "nltk.download('punkt')\n",
    "\n",
    "# Sample text\n",
    "text = \"Hello! Check out my website: http://example.com. It's awesome! #excited @user $100.\"\n",
    "\n",
    "# Define a regular expression pattern to remove URLs\n",
    "url_pattern = r\"http\\S+|www\\S+\"\n",
    "\n",
    "# Define a regular expression pattern to remove punctuation and special characters\n",
    "punctuation_pattern = r\"[^a-zA-Z0-9\\s]\"\n",
    "\n",
    "# Remove URLs\n",
    "cleaned_text = re.sub(url_pattern, '', text)\n",
    "\n",
    "# Remove punctuation and special characters\n",
    "cleaned_text = re.sub(punctuation_pattern, '', cleaned_text)\n",
    "\n",
    "# Tokenize the cleaned text\n",
    "tokens = word_tokenize(cleaned_text)\n",
    "\n",
    "# Print the cleaned and tokenized text\n",
    "print(\"Cleaned Text:\", cleaned_text)\n",
    "print(\"Tokenized Text:\", tokens)"
   ]
  },
  {
   "cell_type": "code",
   "execution_count": null,
   "id": "22c1dac5-eff5-498b-81d1-ca4643eedec3",
   "metadata": {},
   "outputs": [],
   "source": []
  }
 ],
 "metadata": {
  "kernelspec": {
   "display_name": "Python 3 (ipykernel)",
   "language": "python",
   "name": "python3"
  },
  "language_info": {
   "codemirror_mode": {
    "name": "ipython",
    "version": 3
   },
   "file_extension": ".py",
   "mimetype": "text/x-python",
   "name": "python",
   "nbconvert_exporter": "python",
   "pygments_lexer": "ipython3",
   "version": "3.12.4"
  }
 },
 "nbformat": 4,
 "nbformat_minor": 5
}
