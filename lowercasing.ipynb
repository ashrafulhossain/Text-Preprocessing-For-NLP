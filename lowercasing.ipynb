{
 "cells": [
  {
   "cell_type": "code",
   "execution_count": 1,
   "id": "143e73a6-8cfb-47c8-bb8b-2389d1110d23",
   "metadata": {},
   "outputs": [
    {
     "name": "stdout",
     "output_type": "stream",
     "text": [
      "Cleaned and Lowercased Text: hello check out my website  its awesome excited user 100\n",
      "Tokenized Text: ['hello', 'check', 'out', 'my', 'website', 'its', 'awesome', 'excited', 'user', '100']\n"
     ]
    },
    {
     "name": "stderr",
     "output_type": "stream",
     "text": [
      "[nltk_data] Downloading package punkt to\n",
      "[nltk_data]     C:\\Users\\Ashraful\\AppData\\Roaming\\nltk_data...\n",
      "[nltk_data]   Package punkt is already up-to-date!\n"
     ]
    }
   ],
   "source": [
    "import re\n",
    "import nltk\n",
    "from nltk.tokenize import word_tokenize\n",
    "\n",
    "# Make sure to download the necessary resources\n",
    "nltk.download('punkt')\n",
    "\n",
    "# Sample text\n",
    "text = \"Hello! Check out my website: http://example.com. It's awesome! #excited @user $100.\"\n",
    "\n",
    "# Define a regular expression pattern to remove URLs\n",
    "url_pattern = r\"http\\S+|www\\S+\"\n",
    "\n",
    "# Define a regular expression pattern to remove punctuation and special characters\n",
    "punctuation_pattern = r\"[^a-zA-Z0-9\\s]\"\n",
    "\n",
    "# Remove URLs\n",
    "cleaned_text = re.sub(url_pattern, '', text)\n",
    "\n",
    "# Remove punctuation and special characters\n",
    "cleaned_text = re.sub(punctuation_pattern, '', cleaned_text)\n",
    "\n",
    "# Convert text to lowercase\n",
    "cleaned_text = cleaned_text.lower()\n",
    "\n",
    "# Tokenize the cleaned and lowercased text\n",
    "tokens = word_tokenize(cleaned_text)\n",
    "\n",
    "# Print the cleaned, lowercased, and tokenized text\n",
    "print(\"Cleaned and Lowercased Text:\", cleaned_text)\n",
    "print(\"Tokenized Text:\", tokens)"
   ]
  },
  {
   "cell_type": "code",
   "execution_count": null,
   "id": "b70fd9ce-5956-4576-93f0-e697d887dc1e",
   "metadata": {},
   "outputs": [],
   "source": []
  }
 ],
 "metadata": {
  "kernelspec": {
   "display_name": "Python 3 (ipykernel)",
   "language": "python",
   "name": "python3"
  },
  "language_info": {
   "codemirror_mode": {
    "name": "ipython",
    "version": 3
   },
   "file_extension": ".py",
   "mimetype": "text/x-python",
   "name": "python",
   "nbconvert_exporter": "python",
   "pygments_lexer": "ipython3",
   "version": "3.12.4"
  }
 },
 "nbformat": 4,
 "nbformat_minor": 5
}
